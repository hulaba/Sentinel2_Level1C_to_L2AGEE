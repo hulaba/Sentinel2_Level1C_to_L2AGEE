{
 "cells": [
  {
   "cell_type": "code",
   "execution_count": 30,
   "metadata": {},
   "outputs": [],
   "source": [
    "#imports\n",
    "from osgeo import gdal\n",
    "from osgeo import ogr\n",
    "from osgeo import osr\n",
    "from osgeo import gdal_array\n",
    "from osgeo import gdalconst\n",
    "import gdal\n",
    "import ogr\n",
    "import osr\n",
    "import gdalnumeric\n",
    "import gdalconst\n",
    "import os\n",
    "import glob\n",
    "from shutil import rmtree"
   ]
  },
  {
   "cell_type": "code",
   "execution_count": 31,
   "metadata": {},
   "outputs": [],
   "source": [
    "gdal.UseExceptions()    # Enable exceptions"
   ]
  },
  {
   "cell_type": "code",
   "execution_count": 32,
   "metadata": {},
   "outputs": [],
   "source": [
    "#import dir\n",
    "iDirname = 'F:\\\\sen2cor\\\\import\\\\'\n",
    "# working dir\n",
    "wDirname = 'F:\\\\sen2cor\\\\working\\\\'\n",
    "#export dir\n",
    "eDirname = 'F:\\\\sen2cor\\\\export\\\\'\n"
   ]
  },
  {
   "cell_type": "code",
   "execution_count": 33,
   "metadata": {},
   "outputs": [],
   "source": [
    "#L2a filename and subset region in degrees\n",
    "ccLat = 45.40;\n",
    "ccLong = -75.67;\n",
    "rocWidth = 0.1;\n",
    "rocWin = [ccLong-rocWidth, ccLat+rocWidth, ccLong+rocWidth, ccLat-rocWidth]\n",
    "L1name = \"S2B_MSIL1C_20180824T154809_N0206_R054_T18TVR_20180824T210113.SAFE\""
   ]
  },
  {
   "cell_type": "code",
   "execution_count": 34,
   "metadata": {},
   "outputs": [
    {
     "ename": "FileExistsError",
     "evalue": "[WinError 183] Cannot create a file when that file already exists: 'F:\\\\sen2cor\\\\working\\\\S2B_MSIL1C_20180824T154809_N0206_R054_T18TVR_20180824T210113'",
     "output_type": "error",
     "traceback": [
      "\u001b[1;31m---------------------------------------------------------------------------\u001b[0m",
      "\u001b[1;31mFileExistsError\u001b[0m                           Traceback (most recent call last)",
      "\u001b[1;32m<ipython-input-34-5be01f2be82f>\u001b[0m in \u001b[0;36m<module>\u001b[1;34m\u001b[0m\n\u001b[0;32m      1\u001b[0m \u001b[1;31m#make a work directory - this allows parallel processing by multiple script executions\u001b[0m\u001b[1;33m\u001b[0m\u001b[1;33m\u001b[0m\u001b[1;33m\u001b[0m\u001b[0m\n\u001b[0;32m      2\u001b[0m \u001b[0mworkDirname\u001b[0m  \u001b[1;33m=\u001b[0m \u001b[0mwDirname\u001b[0m\u001b[1;33m+\u001b[0m\u001b[0mL1name\u001b[0m\u001b[1;33m[\u001b[0m\u001b[1;36m0\u001b[0m\u001b[1;33m:\u001b[0m\u001b[0mlen\u001b[0m\u001b[1;33m(\u001b[0m\u001b[0mL1name\u001b[0m\u001b[1;33m)\u001b[0m\u001b[1;33m-\u001b[0m\u001b[1;36m5\u001b[0m\u001b[1;33m]\u001b[0m\u001b[1;33m\u001b[0m\u001b[1;33m\u001b[0m\u001b[0m\n\u001b[1;32m----> 3\u001b[1;33m \u001b[0mos\u001b[0m\u001b[1;33m.\u001b[0m\u001b[0mmkdir\u001b[0m\u001b[1;33m(\u001b[0m\u001b[0mworkDirname\u001b[0m\u001b[1;33m)\u001b[0m\u001b[1;33m\u001b[0m\u001b[1;33m\u001b[0m\u001b[0m\n\u001b[0m",
      "\u001b[1;31mFileExistsError\u001b[0m: [WinError 183] Cannot create a file when that file already exists: 'F:\\\\sen2cor\\\\working\\\\S2B_MSIL1C_20180824T154809_N0206_R054_T18TVR_20180824T210113'"
     ]
    }
   ],
   "source": [
    "#make a work directory - this allows parallel processing by multiple script executions\n",
    "workDirname  = wDirname+L1name[0:len(L1name)-5]\n",
    "os.mkdir(workDirname) "
   ]
  },
  {
   "cell_type": "code",
   "execution_count": null,
   "metadata": {},
   "outputs": [],
   "source": [
    "# run sen2cor and find the result file\n",
    "cmd = \"F:\\\\sen2cor\\\\Sen2Cor-02.08.00-win64\\\\L2A_Process.bat \"+iDirname+L1name+\" --output_dir \"+workDirname+'\\\\'\n",
    "os.system(cmd)\n"
   ]
  },
  {
   "cell_type": "code",
   "execution_count": null,
   "metadata": {},
   "outputs": [],
   "source": [
    "L2name = glob.glob(workDirname+L1name[0:8]+'2A'+L1name[10:24]+'*.SAFE')\n",
    "exportName = (L2name[0][len(wDirname):(len(L2name[0])-5)])\n",
    "print(exportName)"
   ]
  },
  {
   "cell_type": "code",
   "execution_count": null,
   "metadata": {},
   "outputs": [],
   "source": [
    "# Open L2a data \n",
    "ds = gdal.Open(L2name[0]+'\\MTD_MSIL2A.xml')\n",
    "#ds.GetMetadata('SUBDATASETS')"
   ]
  },
  {
   "cell_type": "code",
   "execution_count": null,
   "metadata": {},
   "outputs": [],
   "source": [
    "# Open L2a 10m dataset and print info\n",
    "f10m = gdal.Open('SENTINEL2_L2A:'+L2name[0]+'\\MTD_MSIL2A.xml'+':10m:EPSG_32618')\n",
    "#gdal.Info(f10m)\n"
   ]
  },
  {
   "cell_type": "code",
   "execution_count": null,
   "metadata": {},
   "outputs": [],
   "source": [
    "# Open L2a 20m dataset and print info\n",
    "f20m = gdal.Open('SENTINEL2_L2A:'+L2name[0]+'\\MTD_MSIL2A.xml'+':20m:EPSG_32618')\n",
    "#gdal.Info(f20m)"
   ]
  },
  {
   "cell_type": "code",
   "execution_count": null,
   "metadata": {},
   "outputs": [],
   "source": [
    "# Open L2a 60m dataset and print info\n",
    "f60m = gdal.Open('SENTINEL2_L2A:'+L2name[0]+'\\MTD_MSIL2A.xml'+':60m:EPSG_32618')\n",
    "#gdal.Info(f20m)"
   ]
  },
  {
   "cell_type": "code",
   "execution_count": 17,
   "metadata": {},
   "outputs": [],
   "source": [
    "# Export 10m version of L2A product (no ancillary bands) and output file describing contents\n",
    "gdal.Translate(workDirname+'b4.tif',f10m,bandList=[1],projWin = rocWin, projWinSRS = 'EPSG:4236',xRes=10,yRes=10)\n",
    "gdal.Translate(workDirname+'b3.tif',f10m,bandList=[2],projWin = rocWin, projWinSRS = 'EPSG:4236',xRes=10,yRes=10)\n",
    "gdal.Translate(workDirname+'b2.tif',f10m,bandList=[3],projWin = rocWin, projWinSRS = 'EPSG:4236',xRes=10,yRes=10)\n",
    "gdal.Translate(workDirname+'b8.tif',f10m,bandList=[4],projWin = rocWin, projWinSRS = 'EPSG:4236',xRes=10,yRes=10)\n",
    "gdal.Translate(workDirname+'b5.tif',f20m,bandList=[1],projWin = rocWin, projWinSRS = 'EPSG:4236',xRes=10,yRes=10)\n",
    "gdal.Translate(workDirname+'b6.tif',f20m,bandList=[2],projWin = rocWin, projWinSRS = 'EPSG:4236',xRes=10,yRes=10)\n",
    "gdal.Translate(workDirname+'b7.tif',f20m,bandList=[3],projWin = rocWin, projWinSRS = 'EPSG:4236',xRes=10,yRes=10)\n",
    "gdal.Translate(workDirname+'b8a.tif',f20m,bandList=[4],projWin = rocWin, projWinSRS = 'EPSG:4236',xRes=10,yRes=10)\n",
    "gdal.Translate(workDirname+'b11.tif',f20m,bandList=[5],projWin = rocWin, projWinSRS = 'EPSG:4236',xRes=10,yRes=10)\n",
    "gdal.Translate(workDirname+'b12.tif',f20m,bandList=[6],projWin = rocWin, projWinSRS = 'EPSG:4236',xRes=10,yRes=10)\n",
    "gdal.Translate(workDirname+'b1.tif',f60m,bandList=[1],projWin = rocWin, projWinSRS = 'EPSG:4236',xRes=10,yRes=10)\n",
    "gdal.Translate(workDirname+'b9.tif',f60m,bandList=[1],projWin = rocWin, projWinSRS = 'EPSG:4236',xRes=10,yRes=10)\n",
    "\n",
    "vrtOptions = gdal.BuildVRTOptions(separate=True)\n",
    "gdal.BuildVRT(workDirname+'merged.vrt',[workDirname+'b1.tif',workDirname+'b2.tif',workDirname+'b3.tif',workDirname+'b4.tif', \\\n",
    "                                     workDirname+'b5.tif',workDirname+'b6.tif',workDirname+'b7.tif',workDirname+'b8.tif', \\\n",
    "                                     workDirname+'b8a.tif',workDirname+'b9.tif',workDirname+'b11.tif',workDirname+'b12.tif'] \\\n",
    "                                   ,options=vrtOptions)\n",
    "gdal.Translate(eDirname+exportName+'.tif',workDirname+'merged.vrt')\n",
    "gdal.Info(workDirname+'merged.vrt')\n"
   ]
  },
  {
   "cell_type": "code",
   "execution_count": null,
   "metadata": {},
   "outputs": [],
   "source": [
    "\n",
    "#delete working directory\n",
    "rmtree(workDirname)"
   ]
  },
  {
   "cell_type": "code",
   "execution_count": null,
   "metadata": {},
   "outputs": [],
   "source": []
  }
 ],
 "metadata": {
  "kernelspec": {
   "display_name": "Python 3",
   "language": "python",
   "name": "python3"
  },
  "language_info": {
   "codemirror_mode": {
    "name": "ipython",
    "version": 3
   },
   "file_extension": ".py",
   "mimetype": "text/x-python",
   "name": "python",
   "nbconvert_exporter": "python",
   "pygments_lexer": "ipython3",
   "version": "3.8.2"
  }
 },
 "nbformat": 4,
 "nbformat_minor": 4
}
