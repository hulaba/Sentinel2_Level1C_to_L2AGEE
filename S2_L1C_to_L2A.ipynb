{
 "cells": [
  {
   "cell_type": "code",
   "execution_count": 1,
   "metadata": {},
   "outputs": [],
   "source": [
    "#imports\n",
    "from osgeo import gdal\n",
    "from osgeo import ogr\n",
    "from osgeo import osr\n",
    "from osgeo import gdal_array\n",
    "from osgeo import gdalconst\n",
    "import gdal\n",
    "import ogr\n",
    "import osr\n",
    "import gdalnumeric\n",
    "import gdalconst\n",
    "import os\n",
    "import glob"
   ]
  },
  {
   "cell_type": "code",
   "execution_count": 2,
   "metadata": {},
   "outputs": [],
   "source": [
    "gdal.UseExceptions()    # Enable exceptions"
   ]
  },
  {
   "cell_type": "code",
   "execution_count": 3,
   "metadata": {},
   "outputs": [],
   "source": [
    "#import dir\n",
    "iDirname = 'C:\\\\Users\\\\rfern\\\\gdrive\\\\s2msi\\\\import\\\\'\n",
    "# working dir\n",
    "wDirname = 'C:\\\\Users\\\\rfern\\\\gdrive\\\\s2msi\\\\working\\\\'\n",
    "#export dir\n",
    "eDirname = 'C:\\\\Users\\\\rfern\\\\gdrive\\\\s2msi\\\\export\\\\'\n"
   ]
  },
  {
   "cell_type": "code",
   "execution_count": 4,
   "metadata": {},
   "outputs": [],
   "source": [
    "#L2a filename and subset region in degrees\n",
    "ccLat = 45.40;\n",
    "ccLong = -75.67;\n",
    "rocWidth = 0.1;\n",
    "rocWin = [ccLong-rocWidth, ccLat+rocWidth, ccLong+rocWidth, ccLat-rocWidth]"
   ]
  },
  {
   "cell_type": "code",
   "execution_count": 9,
   "metadata": {},
   "outputs": [
    {
     "name": "stdout",
     "output_type": "stream",
     "text": [
      "C:\\Users\\rfern\\gdrive\\s2msi\\Sen2Cor-02.08.00-win64\\L2A_Process.bat C:\\Users\\rfern\\gdrive\\s2msi\\import\\S2B_MSIL1C_20180509T155859_N0206_R097_T18TVR_20180509T200612.SAFE --output_dir C:\\Users\\rfern\\gdrive\\s2msi\\working\\\n"
     ]
    }
   ],
   "source": [
    "# run sen2cor and find the result file\n",
    "L1name = \"S2B_MSIL1C_20180509T155859_N0206_R097_T18TVR_20180509T200612.SAFE\"\n",
    "cmd = \"C:\\\\Users\\\\rfern\\\\gdrive\\\\s2msi\\\\Sen2Cor-02.08.00-win64\\\\L2A_Process.bat \"+iDirname+L1name+\" --output_dir \"+wDirname\n",
    "os.system(cmd)\n",
    "L2name = glob.glob(wDirname+L1name[0:8]+'2A'+L1name[10:24]+'*.SAFE')\n",
    "exportName = (L2name[0][len(wDirname):(len(L2name[0])-5)])\n",
    "print(exportName)"
   ]
  },
  {
   "cell_type": "code",
   "execution_count": 10,
   "metadata": {},
   "outputs": [
    {
     "data": {
      "text/plain": [
       "0"
      ]
     },
     "execution_count": 10,
     "metadata": {},
     "output_type": "execute_result"
    }
   ],
   "source": []
  },
  {
   "cell_type": "code",
   "execution_count": 12,
   "metadata": {},
   "outputs": [
    {
     "name": "stdout",
     "output_type": "stream",
     "text": [
      "C:\\Users\\rfern\\gdrive\\s2msi\\working\\S2B_MSIL2A_20180509T155859_N9999_R097_T18TVR_20200522T010435.SAFE\n",
      "S2B_MSIL2A_20180509T155859_N9999_R097_T18TVR_20200522T010435\n"
     ]
    }
   ],
   "source": []
  },
  {
   "cell_type": "code",
   "execution_count": 13,
   "metadata": {},
   "outputs": [],
   "source": [
    "# Open L2a data \n",
    "ds = gdal.Open(L2name[0]+'\\MTD_MSIL2A.xml')\n",
    "#ds.GetMetadata('SUBDATASETS')"
   ]
  },
  {
   "cell_type": "code",
   "execution_count": 14,
   "metadata": {},
   "outputs": [],
   "source": [
    "# Open L2a 10m dataset and print info\n",
    "f10m = gdal.Open('SENTINEL2_L2A:'+L2name[0]+'\\MTD_MSIL2A.xml'+':10m:EPSG_32618')\n",
    "#gdal.Info(f10m)\n"
   ]
  },
  {
   "cell_type": "code",
   "execution_count": 15,
   "metadata": {},
   "outputs": [],
   "source": [
    "# Open L2a 20m dataset and print info\n",
    "f20m = gdal.Open('SENTINEL2_L2A:'+L2name[0]+'\\MTD_MSIL2A.xml'+':20m:EPSG_32618')\n",
    "#gdal.Info(f20m)"
   ]
  },
  {
   "cell_type": "code",
   "execution_count": 16,
   "metadata": {},
   "outputs": [],
   "source": [
    "# Open L2a 60m dataset and print info\n",
    "f60m = gdal.Open('SENTINEL2_L2A:'+L2name[0]+'\\MTD_MSIL2A.xml'+':60m:EPSG_32618')\n",
    "#gdal.Info(f20m)"
   ]
  },
  {
   "cell_type": "code",
   "execution_count": 17,
   "metadata": {},
   "outputs": [
    {
     "data": {
      "text/plain": [
       "'Driver: VRT/Virtual Raster\\nFiles: C:\\\\Users\\\\rfern\\\\gdrive\\\\s2msi\\\\working\\\\merged.vrt\\n       C:\\\\Users\\\\rfern\\\\gdrive\\\\s2msi\\\\working\\\\b1.tif\\n       C:\\\\Users\\\\rfern\\\\gdrive\\\\s2msi\\\\working\\\\b2.tif\\n       C:\\\\Users\\\\rfern\\\\gdrive\\\\s2msi\\\\working\\\\b3.tif\\n       C:\\\\Users\\\\rfern\\\\gdrive\\\\s2msi\\\\working\\\\b4.tif\\n       C:\\\\Users\\\\rfern\\\\gdrive\\\\s2msi\\\\working\\\\b5.tif\\n       C:\\\\Users\\\\rfern\\\\gdrive\\\\s2msi\\\\working\\\\b6.tif\\n       C:\\\\Users\\\\rfern\\\\gdrive\\\\s2msi\\\\working\\\\b7.tif\\n       C:\\\\Users\\\\rfern\\\\gdrive\\\\s2msi\\\\working\\\\b8.tif\\n       C:\\\\Users\\\\rfern\\\\gdrive\\\\s2msi\\\\working\\\\b8a.tif\\n       C:\\\\Users\\\\rfern\\\\gdrive\\\\s2msi\\\\working\\\\b9.tif\\n       C:\\\\Users\\\\rfern\\\\gdrive\\\\s2msi\\\\working\\\\b11.tif\\n       C:\\\\Users\\\\rfern\\\\gdrive\\\\s2msi\\\\working\\\\b12.tif\\nSize is 1548, 2237\\nCoordinate System is:\\nPROJCRS[\"WGS 84 / UTM zone 18N\",\\n    BASEGEOGCRS[\"WGS 84\",\\n        DATUM[\"World Geodetic System 1984\",\\n            ELLIPSOID[\"WGS 84\",6378137,298.257223563,\\n                LENGTHUNIT[\"metre\",1]]],\\n        PRIMEM[\"Greenwich\",0,\\n            ANGLEUNIT[\"degree\",0.0174532925199433]],\\n        ID[\"EPSG\",4326]],\\n    CONVERSION[\"UTM zone 18N\",\\n        METHOD[\"Transverse Mercator\",\\n            ID[\"EPSG\",9807]],\\n        PARAMETER[\"Latitude of natural origin\",0,\\n            ANGLEUNIT[\"degree\",0.0174532925199433],\\n            ID[\"EPSG\",8801]],\\n        PARAMETER[\"Longitude of natural origin\",-75,\\n            ANGLEUNIT[\"degree\",0.0174532925199433],\\n            ID[\"EPSG\",8802]],\\n        PARAMETER[\"Scale factor at natural origin\",0.9996,\\n            SCALEUNIT[\"unity\",1],\\n            ID[\"EPSG\",8805]],\\n        PARAMETER[\"False easting\",500000,\\n            LENGTHUNIT[\"metre\",1],\\n            ID[\"EPSG\",8806]],\\n        PARAMETER[\"False northing\",0,\\n            LENGTHUNIT[\"metre\",1],\\n            ID[\"EPSG\",8807]]],\\n    CS[Cartesian,2],\\n        AXIS[\"easting\",east,\\n            ORDER[1],\\n            LENGTHUNIT[\"metre\",1]],\\n        AXIS[\"northing\",north,\\n            ORDER[2],\\n            LENGTHUNIT[\"metre\",1]],\\n    ID[\"EPSG\",32618]]\\nData axis to CRS axis mapping: 1,2\\nOrigin = (439080.000000000000000,5038320.000000000000000)\\nPixel Size = (10.000000000000000,-10.000000000000000)\\nCorner Coordinates:\\nUpper Left  (  439080.000, 5038320.000) ( 45d29\\'44.70\"E, 75d46\\'46.92\"S)\\nLower Left  (  439080.000, 5015950.000) ( 45d17\\'39.87\"E, 75d46\\'36.97\"S)\\nUpper Right (  454560.000, 5038320.000) ( 45d29\\'48.95\"E, 75d34\\'53.71\"S)\\nLower Right (  454560.000, 5015950.000) ( 45d17\\'44.10\"E, 75d34\\'46.29\"S)\\nCenter      (  446820.000, 5027135.000) ( 45d23\\'44.56\"E, 75d40\\'45.97\"S)\\nBand 1 Block=128x128 Type=UInt16, ColorInterp=Undefined\\nBand 2 Block=128x128 Type=UInt16, ColorInterp=Undefined\\nBand 3 Block=128x128 Type=UInt16, ColorInterp=Undefined\\nBand 4 Block=128x128 Type=UInt16, ColorInterp=Undefined\\nBand 5 Block=128x128 Type=UInt16, ColorInterp=Undefined\\nBand 6 Block=128x128 Type=UInt16, ColorInterp=Undefined\\nBand 7 Block=128x128 Type=UInt16, ColorInterp=Undefined\\nBand 8 Block=128x128 Type=UInt16, ColorInterp=Undefined\\nBand 9 Block=128x128 Type=UInt16, ColorInterp=Undefined\\nBand 10 Block=128x128 Type=UInt16, ColorInterp=Undefined\\nBand 11 Block=128x128 Type=UInt16, ColorInterp=Undefined\\nBand 12 Block=128x128 Type=UInt16, ColorInterp=Undefined\\n'"
      ]
     },
     "execution_count": 17,
     "metadata": {},
     "output_type": "execute_result"
    }
   ],
   "source": [
    "# Export 10m version of L2A product (no ancillary bands) and output file describing contents\n",
    "gdal.Translate(wDirname+'b4.tif',f10m,bandList=[1],projWin = rocWin, projWinSRS = 'EPSG:4236',xRes=10,yRes=10)\n",
    "gdal.Translate(wDirname+'b3.tif',f10m,bandList=[2],projWin = rocWin, projWinSRS = 'EPSG:4236',xRes=10,yRes=10)\n",
    "gdal.Translate(wDirname+'b2.tif',f10m,bandList=[3],projWin = rocWin, projWinSRS = 'EPSG:4236',xRes=10,yRes=10)\n",
    "gdal.Translate(wDirname+'b8.tif',f10m,bandList=[4],projWin = rocWin, projWinSRS = 'EPSG:4236',xRes=10,yRes=10)\n",
    "gdal.Translate(wDirname+'b5.tif',f20m,bandList=[1],projWin = rocWin, projWinSRS = 'EPSG:4236',xRes=10,yRes=10)\n",
    "gdal.Translate(wDirname+'b6.tif',f20m,bandList=[2],projWin = rocWin, projWinSRS = 'EPSG:4236',xRes=10,yRes=10)\n",
    "gdal.Translate(wDirname+'b7.tif',f20m,bandList=[3],projWin = rocWin, projWinSRS = 'EPSG:4236',xRes=10,yRes=10)\n",
    "gdal.Translate(wDirname+'b8a.tif',f20m,bandList=[4],projWin = rocWin, projWinSRS = 'EPSG:4236',xRes=10,yRes=10)\n",
    "gdal.Translate(wDirname+'b11.tif',f20m,bandList=[5],projWin = rocWin, projWinSRS = 'EPSG:4236',xRes=10,yRes=10)\n",
    "gdal.Translate(wDirname+'b12.tif',f20m,bandList=[6],projWin = rocWin, projWinSRS = 'EPSG:4236',xRes=10,yRes=10)\n",
    "gdal.Translate(wDirname+'b1.tif',f60m,bandList=[1],projWin = rocWin, projWinSRS = 'EPSG:4236',xRes=10,yRes=10)\n",
    "gdal.Translate(wDirname+'b9.tif',f60m,bandList=[1],projWin = rocWin, projWinSRS = 'EPSG:4236',xRes=10,yRes=10)\n",
    "\n",
    "vrtOptions = gdal.BuildVRTOptions(separate=True)\n",
    "gdal.BuildVRT(wDirname+'merged.vrt',[wDirname+'b1.tif',wDirname+'b2.tif',wDirname+'b3.tif',wDirname+'b4.tif', \\\n",
    "                                     wDirname+'b5.tif',wDirname+'b6.tif',wDirname+'b7.tif',wDirname+'b8.tif', \\\n",
    "                                     wDirname+'b8a.tif',wDirname+'b9.tif',wDirname+'b11.tif',wDirname+'b12.tif'] \\\n",
    "                                   ,options=vrtOptions)\n",
    "gdal.Translate(eDirname+exportName+'.tif',wDirname+'merged.vrt')\n",
    "gdal.Info(wDirname+'merged.vrt')"
   ]
  },
  {
   "cell_type": "code",
   "execution_count": null,
   "metadata": {},
   "outputs": [],
   "source": []
  }
 ],
 "metadata": {
  "kernelspec": {
   "display_name": "Python 3",
   "language": "python",
   "name": "python3"
  },
  "language_info": {
   "codemirror_mode": {
    "name": "ipython",
    "version": 3
   },
   "file_extension": ".py",
   "mimetype": "text/x-python",
   "name": "python",
   "nbconvert_exporter": "python",
   "pygments_lexer": "ipython3",
   "version": "3.8.2"
  }
 },
 "nbformat": 4,
 "nbformat_minor": 4
}
